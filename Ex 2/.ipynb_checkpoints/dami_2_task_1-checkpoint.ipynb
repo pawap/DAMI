{
 "cells": [
  {
   "cell_type": "code",
   "execution_count": 1,
   "metadata": {},
   "outputs": [],
   "source": [
    "'''\n",
    "This is a starting template to get you into data visualizations and interpretation. Customize\n",
    "this file and comment out part which you do not need.\n",
    "We will be using the functionality of the matplotlib library and other libraries, so we import them.'''\n",
    "import matplotlib.pyplot as plt\n",
    "import numpy as np\n",
    "from numpy import *\n",
    "\n"
   ]
  },
  {
   "cell_type": "code",
   "execution_count": 74,
   "metadata": {},
   "outputs": [
    {
     "name": "stdout",
     "output_type": "stream",
     "text": [
      "[250000. 200000. 200500. 210000. 220000. 300000. 230000. 240000. 200999.\n",
      " 190000. 199999. 199998. 180500. 200001. 189000. 190001.]\n"
     ]
    },
    {
     "data": {
      "text/plain": [
       "{'boxes': [<matplotlib.lines.Line2D at 0xd691748>],\n",
       " 'caps': [<matplotlib.lines.Line2D at 0xd691b00>,\n",
       "  <matplotlib.lines.Line2D at 0xd690208>],\n",
       " 'fliers': [<matplotlib.lines.Line2D at 0xd690898>],\n",
       " 'means': [],\n",
       " 'medians': [<matplotlib.lines.Line2D at 0xd690550>],\n",
       " 'whiskers': [<matplotlib.lines.Line2D at 0xd691898>,\n",
       "  <matplotlib.lines.Line2D at 0xd691e48>]}"
      ]
     },
     "execution_count": 74,
     "metadata": {},
     "output_type": "execute_result"
    },
    {
     "data": {
      "image/png": "[encoded data removed]",
      "text/plain": [
       "<Figure size 432x288 with 1 Axes>"
      ]
     },
     "metadata": {},
     "output_type": "display_data"
    }
   ],
   "source": [
    "# Get some data from your data folder\n",
    "\n",
    "data = loadtxt('apartment_prices.dat')\n",
    " \n",
    "'''You can choose from a set of basic plots. Check out the correct function arguments to correctly display the data,\n",
    "e.g. plt.boxplot(x_data, y_data)'''\n",
    " \n",
    "#plt.pie(data)\n",
    "\n",
    "print data\n",
    "\n",
    "#plt.bar(data)\n",
    "\n",
    "#plt.boxplot(data)\n",
    "\n",
    "# Never forget to label the axes, if there axes to label, and to give some additional information if you think it is useful\n",
    " \n",
    "plt.xlabel('price')\n",
    "plt.ylabel('count')\n",
    "plt.title('Appartment prices')\n",
    "plt.legend() \n",
    " \n",
    "# You can also change the scale (ticks) \n",
    "\n",
    "#plt.yticks(np.arange(0, 50, step=0.2))\n",
    "plt.boxplot(data)\n",
    "#plt.xticks(np.arange(data.min(),data.max(),step=((data.max()-data.min())/5)))\n"
   ]
  },
  {
   "cell_type": "code",
   "execution_count": 73,
   "metadata": {},
   "outputs": [
    {
     "name": "stdout",
     "output_type": "stream",
     "text": [
      "[5. 5. 4. 1. 1. 4. 1. 1. 5. 1. 2. 5. 1. 5. 1. 5. 5. 2. 1. 1. 2. 1. 1. 5.\n",
      " 2. 5. 1. 5. 1. 5. 5. 1. 1. 5. 5. 1. 5. 2. 5. 5. 1. 5. 5. 4. 5. 4. 1. 1.\n",
      " 2. 5. 5. 5. 1. 4. 1. 1. 1. 5. 3. 1. 3. 1. 1. 5. 4. 5. 5. 4. 5. 5. 5. 1.\n",
      " 5. 5. 5. 4. 3. 5. 1. 3. 5. 4. 5. 5. 4. 1. 5. 1. 5. 5. 5. 5. 5. 5. 4. 5.\n",
      " 4. 1. 1. 4.]\n"
     ]
    },
    {
     "data": {
      "text/plain": [
       "([<matplotlib.axis.XTick at 0xd6a97f0>,\n",
       "  <matplotlib.axis.XTick at 0xd6a9358>,\n",
       "  <matplotlib.axis.XTick at 0xd6a9e10>,\n",
       "  <matplotlib.axis.XTick at 0xd5b05c0>,\n",
       "  <matplotlib.axis.XTick at 0xd5b0780>],\n",
       " <a list of 5 Text xticklabel objects>)"
      ]
     },
     "execution_count": 73,
     "metadata": {},
     "output_type": "execute_result"
    },
    {
     "data": {
      "image/png": "[encoded data removed]",
      "text/plain": [
       "<Figure size 432x288 with 1 Axes>"
      ]
     },
     "metadata": {},
     "output_type": "display_data"
    }
   ],
   "source": [
    "data = loadtxt('grades_lecture2.dat')\n",
    " \n",
    "'''You can choose from a set of basic plots. Check out the correct function arguments to correctly display the data,\n",
    "e.g. plt.boxplot(x_data, y_data)'''\n",
    " \n",
    "#plt.pie(data)\n",
    "\n",
    "print data\n",
    "\n",
    "#plt.bar(data)\n",
    "\n",
    "#plt.boxplot(data)\n",
    "\n",
    "# Never forget to label the axes, if there axes to label, and to give some additional information if you think it is useful\n",
    " \n",
    "plt.xlabel('grade')\n",
    "plt.ylabel('count')\n",
    "plt.title('Grades Lecture 1')\n",
    "plt.legend() \n",
    " \n",
    "# You can also change the scale (ticks) \n",
    "\n",
    "#plt.yticks(np.arange(0, 50, step=0.2))\n",
    "plt.hist(data)\n",
    "plt.xticks(np.arange(1,6))\n"
   ]
  },
  {
   "cell_type": "code",
   "execution_count": 66,
   "metadata": {},
   "outputs": [
    {
     "name": "stdout",
     "output_type": "stream",
     "text": [
      "[1443.54  876.62  748.3  1398.37 1801.49 1446.6  1201.96]\n"
     ]
    },
    {
     "data": {
      "text/plain": [
       "<BarContainer object of 7 artists>"
      ]
     },
     "execution_count": 66,
     "metadata": {},
     "output_type": "execute_result"
    },
    {
     "data": {
      "image/png": "[encoded data removed]",
      "text/plain": [
       "<Figure size 432x288 with 1 Axes>"
      ]
     },
     "metadata": {},
     "output_type": "display_data"
    }
   ],
   "source": [
    "data = loadtxt('minimum_salary.dat')\n",
    " \n",
    "'''You can choose from a set of basic plots. Check out the correct function arguments to correctly display the data,\n",
    "e.g. plt.boxplot(x_data, y_data)'''\n",
    " \n",
    "#plt.pie(data)\n",
    "\n",
    "print data\n",
    "\n",
    "#plt.bar(data)\n",
    "\n",
    "#plt.boxplot(data)\n",
    "\n",
    "# Never forget to label the axes, if there axes to label, and to give some additional information if you think it is useful\n",
    " \n",
    "plt.xlabel('country')\n",
    "plt.ylabel('salary')\n",
    "plt.title('Minimum salary')\n",
    "plt.legend() \n",
    " \n",
    "# You can also change the scale (ticks) \n",
    "\n",
    "#plt.yticks(np.arange(0, 50, step=0.2))\n",
    "plt.bar(('Belgium', 'Gr' , 'Es', 'Fr', 'Lux', 'Nl', 'UK'),data)\n",
    "#plt.xticks(np.arange(1,6))"
   ]
  },
  {
   "cell_type": "code",
   "execution_count": null,
   "metadata": {},
   "outputs": [],
   "source": []
  }
 ],
 "metadata": {
  "kernelspec": {
   "display_name": "Python 2",
   "language": "python",
   "name": "python2"
  },
  "language_info": {
   "codemirror_mode": {
    "name": "ipython",
    "version": 2
   },
   "file_extension": ".py",
   "mimetype": "text/x-python",
   "name": "python",
   "nbconvert_exporter": "python",
   "pygments_lexer": "ipython2",
   "version": "2.7.14"
  }
 },
 "nbformat": 4,
 "nbformat_minor": 2
}
